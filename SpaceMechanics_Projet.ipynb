{
 "cells": [
  {
   "cell_type": "markdown",
   "id": "b6ffc1a8",
   "metadata": {},
   "source": [
    "# Space mechanics : Eart to Uranus"
   ]
  },
  {
   "cell_type": "markdown",
   "id": "45d0a8cd",
   "metadata": {},
   "source": [
    "#### Students : Hugo LANCERY - Lucie MICHELET - ELSS"
   ]
  },
  {
   "cell_type": "code",
   "execution_count": 2,
   "id": "3990f270",
   "metadata": {},
   "outputs": [],
   "source": [
    "import numpy as np"
   ]
  },
  {
   "cell_type": "markdown",
   "id": "145f8670",
   "metadata": {},
   "source": [
    "### Library"
   ]
  },
  {
   "cell_type": "code",
   "execution_count": 3,
   "id": "1a818c08",
   "metadata": {},
   "outputs": [],
   "source": [
    "def param(mue,V,R,mod):\n",
    "    \"\"\"\n",
    "    Parameters\n",
    "    ----------\n",
    "    mue : reduced gravitational constant of the planet\n",
    "    V : Velocity of the spacecraft\n",
    "    R : radius\n",
    "    mod : elliptic or hyperbola \n",
    "\n",
    "    Returns\n",
    "    -------\n",
    "    a : apoapsis \n",
    "    e : eccentricity \n",
    "    w : total energy [km.s-2]\n",
    "    t : orital period [s]\n",
    "\n",
    "    \"\"\"\n",
    "    if mod == 'e' :\n",
    "        a = -mue/(2*(V**2/2-mue/R))\n",
    "        e = -R/a+1\n",
    "        w = -mue/(2*a)\n",
    "    if mod == 'h' :\n",
    "        a = mue/(2*(V**2/2-mue/R))\n",
    "        e = 1+R/a\n",
    "        w = mue/(2*a)\n",
    "    t = 2*np.pi*np.sqrt(a**3/mue)\n",
    "    return a,e,w,t\n",
    "\n",
    "def Vl(mue,d):\n",
    "    \"\"\"\n",
    "    Parameters\n",
    "    ----------\n",
    "    mue : int - gravitaional reduced param.\n",
    "    R : int - distance\n",
    "\n",
    "    Returns\n",
    "    -------\n",
    "    float - The velocity for liberation\n",
    "    \"\"\"\n",
    "    return np.sqrt(2*mue/d)\n",
    "\n",
    "\n",
    "def V(mue,R):\n",
    "    return np.sqrt(mue/R)\n",
    "\n",
    "\n",
    "def E_h(R,a,e):\n",
    "    return np.arccosh((R/a+1)/(e))\n",
    "\n",
    "def t_tp_h(E,a,e,mue,tp=0):\n",
    "    #/!\\ E en radian pour les calculs\n",
    "    return (np.sqrt(a**3/mue))*(e*np.sinh(E)-E)+tp\n",
    "\n",
    "\n",
    "def E_e(R,a,e):\n",
    "    return np.arccos((R/a-1)/(-e))\n",
    "\n",
    "def t_tp_e(E,a,e,mue,tp=0):\n",
    "    return (np.sqrt(a**3/mue))*(E - e*np.sin(E))+tp\n",
    "\n",
    "\n",
    "def Vrot(R,T):\n",
    "    return 2*np.pi*R/T\n",
    "\n",
    "\n",
    "def Vs(V1,V2,angle):\n",
    "    return np.sqrt(V1**2+V2**2+2*V1*V2*np.cos(angle))\n",
    "\n",
    "\n",
    "def deltaV(V1,V2):\n",
    "    if V2 > V1 :\n",
    "        print(\"Thanks to Jupiter influence, we accelerated !\")\n",
    "        deltaV = V2-V1\n",
    "        \n",
    "    if V1 > V2 :\n",
    "        print(\"Thanks to Jupiter influence, we decelerated !\")\n",
    "        deltaV = V1-V2\n",
    "    \n",
    "    if V1 == V2 :\n",
    "        print(\"Jupiter influence didn't affect the velocity of the spacecraft.\")\n",
    "        deltaV = 0\n",
    "        \n",
    "    return deltaV\n"
   ]
  },
  {
   "cell_type": "markdown",
   "id": "1d42d102",
   "metadata": {},
   "source": [
    "### Importation of the data"
   ]
  },
  {
   "cell_type": "code",
   "execution_count": 4,
   "id": "85e792fb",
   "metadata": {},
   "outputs": [],
   "source": [
    "#Constante gravitationelle\n",
    "G = 6.67428*10**(-11)\n",
    "\n",
    "# Masse [kg]\n",
    "mT = 5.9737*10**(24)\n",
    "mU = 8.681*10**(25)\n",
    "\n",
    "# gravitational reduced param [km**3/s**2]\n",
    "mueE = G*mT/(1000**3) \n",
    "mueU = G*mU/(1000**3)\n",
    "mueS = 13.2*10**10\n",
    "mueJ = 126.5*10**6\n",
    "\n",
    "# distance au soleil\n",
    "sJ = 750*10**6\n",
    "sU = 2.9*10**9\n",
    "sT = 150*10**6\n",
    "\n",
    "# Rayons en [km]\n",
    "rT = 6378\n",
    "rJ = 71400\n",
    "rU = 25362 \n",
    "h = 200\n",
    "omgp = h +rT"
   ]
  },
  {
   "cell_type": "markdown",
   "id": "d9753fb0",
   "metadata": {},
   "source": [
    "### Initial State"
   ]
  },
  {
   "cell_type": "markdown",
   "id": "7cd7eab1",
   "metadata": {},
   "source": [
    "We calculate the velocity of satelization and liberation of our satellite and its parameters"
   ]
  },
  {
   "cell_type": "code",
   "execution_count": 5,
   "id": "75cfffb5",
   "metadata": {},
   "outputs": [
    {
     "name": "stdout",
     "output_type": "stream",
     "text": [
      "Satelization velocity :  7.785329191319328 \n",
      "Liberation Velocity :  11.010118129902954\n"
     ]
    }
   ],
   "source": [
    "vsat = (mueE/omgp)**0.5\n",
    "vlib = Vl(mueE,omgp)\n",
    "\n",
    "#param initial state\n",
    "a = -mueE/(2*(vsat**2/2-mueE/omgp))\n",
    "e = 0   # because LEO\n",
    "t = 2*np.pi*np.sqrt(a**3/mueE)\n",
    "\n",
    "print(\"Satelization velocity : \",vsat,\"\\nLiberation Velocity : \",vlib)"
   ]
  },
  {
   "cell_type": "markdown",
   "id": "03e1e895",
   "metadata": {},
   "source": [
    "### First Tranfert Orbit - leaving Earth inlfuence"
   ]
  },
  {
   "cell_type": "markdown",
   "id": "e64424d8",
   "metadata": {},
   "source": [
    "Then we add velocity to exit the earth influence"
   ]
  },
  {
   "cell_type": "code",
   "execution_count": 6,
   "id": "f88e122d",
   "metadata": {},
   "outputs": [
    {
     "name": "stdout",
     "output_type": "stream",
     "text": [
      "26.178537461802 hours\n"
     ]
    }
   ],
   "source": [
    "#acceleration to have an hyperbola\n",
    "dv0 = 6.66\n",
    "v0 = vsat + dv0\n",
    "a0,e0,w0,T0 = param(mueE,v0,omgp,'h')\n",
    "\n",
    "phi0 = np.arccos(1/e0)*180/np.pi\n",
    "\n",
    "#%% Calculation of time for entering jupiter area\n",
    "\n",
    "Ro = 900000\n",
    "tp = 0\n",
    "\n",
    "E0 = E_h(Ro,a0,e0)\n",
    "E0deg = E0*180/np.pi\n",
    "\n",
    "t0 = t_tp_h(E0,a0,e0,mueE,tp) \n",
    "print(t0/60/60,'hours')\n",
    "\n",
    "n = (mueE/(a0**3))**0.5 "
   ]
  },
  {
   "cell_type": "markdown",
   "id": "1ada1a85",
   "metadata": {},
   "source": [
    "Now we want to know what is the velocity needed to enter jupiter influence"
   ]
  },
  {
   "cell_type": "code",
   "execution_count": 7,
   "id": "e0dd99a1",
   "metadata": {},
   "outputs": [
    {
     "name": "stdout",
     "output_type": "stream",
     "text": [
      "Velocity needed :  41.95235392680606\n",
      "Velocity we have :  38.80463211137637\n"
     ]
    }
   ],
   "source": [
    "#velocity at limite of the earth influence sphere\n",
    "VinfE = V(mueE,a0)\n",
    "\n",
    "ua = 150*10**6\n",
    "TrotE = 365.25*86400\n",
    "\n",
    "\n",
    "#velocity rot earth\n",
    "VrotE = Vrot(ua,TrotE)\n",
    "\n",
    "angle_V_deg = 19.53  \n",
    "angle_V = 19.53*np.pi/180\n",
    "\n",
    "#injection velocity \n",
    "Vso = Vs(VinfE,VrotE,angle_V)\n",
    "Vl1 = Vl(mueS,ua)\n",
    "# Vl1 > Vso so we have an ellipse\n",
    "\n",
    "print(\"Velocity needed : \",Vl1)\n",
    "print(\"Velocity we have : \",Vso)"
   ]
  },
  {
   "cell_type": "markdown",
   "id": "d51bdf08",
   "metadata": {},
   "source": [
    "We determine the date of rendez-vous with Jupiter"
   ]
  },
  {
   "cell_type": "code",
   "execution_count": 8,
   "id": "102aa6c2",
   "metadata": {},
   "outputs": [],
   "source": [
    "#The parameter of the trajectory once the injection is done\n",
    "a1,e1,w1,T1 = param(mueS,Vso,ua,'e')"
   ]
  },
  {
   "cell_type": "code",
   "execution_count": 9,
   "id": "9f3cbc44",
   "metadata": {},
   "outputs": [
    {
     "name": "stdout",
     "output_type": "stream",
     "text": [
      "Time of transfer :  1.745828651854084 year\n"
     ]
    }
   ],
   "source": [
    "E1 = E_e(sJ,a1,e1)\n",
    "\n",
    "t1 = t_tp_e(E1,a1,e1,mueS)\n",
    "print(\"Time of transfer : \",t1/60/60/24/365,'year')"
   ]
  },
  {
   "cell_type": "code",
   "execution_count": 10,
   "id": "7a314779",
   "metadata": {},
   "outputs": [
    {
     "name": "stdout",
     "output_type": "stream",
     "text": [
      "Velocity of Jupiter :  13.2664991614216\n"
     ]
    }
   ],
   "source": [
    "# Velocity jupiter to the sun\n",
    "Vj = V(mueS,sJ)\n",
    "print(\"Velocity of Jupiter : \",Vj)"
   ]
  },
  {
   "cell_type": "code",
   "execution_count": 11,
   "id": "cb951423",
   "metadata": {},
   "outputs": [
    {
     "name": "stdout",
     "output_type": "stream",
     "text": [
      "9.889361622433585\n"
     ]
    }
   ],
   "source": [
    "# velocity of the spacecraft, related to Sun, at the level of Jupiter orbit and the angle of crossing orbit directions\n",
    "   \n",
    "Vs1 = np.sqrt(2*(-mueS/(2*a1)+mueS/sJ))   #[km/s]\n",
    "phi1 = np.arccos(Vso*ua/(Vs1*sJ))\n",
    "phi1deg = phi1*180/np.pi\n",
    "\n",
    "print(Vs1)"
   ]
  },
  {
   "cell_type": "code",
   "execution_count": 12,
   "id": "79519879",
   "metadata": {},
   "outputs": [
    {
     "name": "stdout",
     "output_type": "stream",
     "text": [
      "8.238860695103597\n"
     ]
    }
   ],
   "source": [
    "# velocity of the spacecraft, related to Jupiter, at the entry point and the angle\n",
    "\n",
    "Vinf1 = np.sqrt(Vs1**2+Vj**2-2*Vs1*Vj*np.cos(phi1))\n",
    "alpha1 = np.arcsin(np.sin(phi1)/Vinf1*Vs1)\n",
    "alpha1deg = alpha1*180/np.pi\n",
    "\n",
    "print(Vinf1)"
   ]
  },
  {
   "cell_type": "markdown",
   "id": "dfbd9184",
   "metadata": {},
   "source": [
    "### Arrival in the Jupiter neighborhood"
   ]
  },
  {
   "cell_type": "markdown",
   "id": "3218012f",
   "metadata": {},
   "source": [
    "We determine the following parameters of the flyby trajectory with 18 radii"
   ]
  },
  {
   "cell_type": "code",
   "execution_count": 13,
   "id": "57888032",
   "metadata": {},
   "outputs": [
    {
     "name": "stdout",
     "output_type": "stream",
     "text": [
      "1285200\n"
     ]
    }
   ],
   "source": [
    "h1 = 18*rJ\n",
    "Rj = rJ+h1        \n",
    "\n",
    "aj = mueJ/(Vinf1**2)\n",
    "ej = 1+Rj/aj\n",
    "phij = np.arccos(1/ej)\n",
    "phijdeg = phij*180/np.pi\n",
    "\n",
    "alphajdeg = 180-2*phijdeg-alpha1deg\n",
    "alphaj = alphajdeg*np.pi/180\n",
    "print(h1)"
   ]
  },
  {
   "cell_type": "markdown",
   "id": "2c09db47",
   "metadata": {},
   "source": [
    "Now we want to determine the exit conditions of the Jovian sphere"
   ]
  },
  {
   "cell_type": "code",
   "execution_count": 14,
   "id": "a13de070",
   "metadata": {},
   "outputs": [
    {
     "name": "stdout",
     "output_type": "stream",
     "text": [
      "Thanks to Jupiter influence, we accelerated !\n",
      "\n",
      "Velocity at the Jovian exit point :  21.10961350389398 \n",
      "Phi angle :  80.03507216201557\n"
     ]
    }
   ],
   "source": [
    "# velocity of the spacecraft, related to Sun, at the Jovian exit point and its angle\n",
    "Vinf2 = V(mueJ,aj)\n",
    "\n",
    "Vs2 = Vs(Vinf2,Vj,alphaj)\n",
    "phi2 = np.arccos(1/(1+Rj/(mueJ/(Vs2**2))))\n",
    "\n",
    "dV = deltaV(Vs1,Vs2)\n",
    "\n",
    "print(\"\\nVelocity at the Jovian exit point : \",Vs2,\"\\nPhi angle : \",phi2*180/np.pi)"
   ]
  },
  {
   "cell_type": "markdown",
   "id": "19f6bbbb",
   "metadata": {},
   "source": [
    "### Second Transfert Orbit : leaving Jupiter influence"
   ]
  },
  {
   "cell_type": "raw",
   "id": "c6214b36",
   "metadata": {},
   "source": [
    "By hypothesis, the heliocentric orbit at the exit point of Jupiter influence sphere are:\n",
    "r = sJ \n",
    "v = Vs2\n",
    "phi = phi2 = 32.65°"
   ]
  },
  {
   "cell_type": "markdown",
   "id": "a43c3a1a",
   "metadata": {},
   "source": [
    "We determine the parameters of the new orbit"
   ]
  },
  {
   "cell_type": "code",
   "execution_count": 15,
   "id": "ca62daa6",
   "metadata": {},
   "outputs": [
    {
     "name": "stdout",
     "output_type": "stream",
     "text": [
      "Velocity needed to leave Jupiter influence : 18.76166303929372\n"
     ]
    }
   ],
   "source": [
    "Vl2 = Vl(mueS,sJ)\n",
    "print(\"Velocity needed to leave Jupiter influence :\",Vl2)\n",
    "\n",
    "#Vs2<Vl2 so ellipse"
   ]
  },
  {
   "cell_type": "code",
   "execution_count": 39,
   "id": "8f0a1273",
   "metadata": {},
   "outputs": [
    {
     "name": "stdout",
     "output_type": "stream",
     "text": [
      "1.5400704091025443\n"
     ]
    }
   ],
   "source": [
    "#We add velocity to have an hyperbola\n",
    "dv2 =  0.034\n",
    "Vs3 = Vs2 + dv2\n",
    "\n",
    "#Vs3>Vl2\n",
    "a3,e3,w3,T3 = param(mueS,Vs3,sJ,'h')\n",
    "\n",
    "print(e3)"
   ]
  },
  {
   "cell_type": "markdown",
   "id": "c203e6da",
   "metadata": {},
   "source": [
    "We calculate the time of rendez vous with Uranus"
   ]
  },
  {
   "cell_type": "code",
   "execution_count": 18,
   "id": "1ed7827f",
   "metadata": {},
   "outputs": [
    {
     "name": "stdout",
     "output_type": "stream",
     "text": [
      "6.128571294590782 years\n"
     ]
    }
   ],
   "source": [
    "E3 = E_h(sU,a3,e3)\n",
    "t3 = t_tp_h(E3,a3,e3,mueS)\n",
    "\n",
    "print(t3/60/60/24/365,\"years\")"
   ]
  },
  {
   "cell_type": "markdown",
   "id": "6ad2a78b",
   "metadata": {},
   "source": [
    "### Total time"
   ]
  },
  {
   "cell_type": "code",
   "execution_count": 19,
   "id": "d3f25243",
   "metadata": {},
   "outputs": [
    {
     "name": "stdout",
     "output_type": "stream",
     "text": [
      "7.8773883639633375\n"
     ]
    }
   ],
   "source": [
    "print((t0+t1+t3)/60/60/24/365)"
   ]
  },
  {
   "cell_type": "markdown",
   "id": "b4b651e3",
   "metadata": {},
   "source": [
    "### Arrival on Uranus"
   ]
  },
  {
   "cell_type": "code",
   "execution_count": 24,
   "id": "692c6c09",
   "metadata": {},
   "outputs": [],
   "source": [
    "#Defining the orbit altitude\n",
    "h3 = 12000\n",
    "Ru = rU+h3  "
   ]
  },
  {
   "cell_type": "code",
   "execution_count": 31,
   "id": "8357de6d",
   "metadata": {
    "scrolled": true
   },
   "outputs": [
    {
     "name": "stdout",
     "output_type": "stream",
     "text": [
      "6.7466466766320545\n"
     ]
    }
   ],
   "source": [
    "# Velocity Uranus\n",
    "Vu = V(mueS,sU)\n",
    "print(Vu)"
   ]
  },
  {
   "cell_type": "code",
   "execution_count": 32,
   "id": "69ee2ce7",
   "metadata": {},
   "outputs": [
    {
     "name": "stdout",
     "output_type": "stream",
     "text": [
      "Vsat Uranus : 12.452943887539027\n"
     ]
    }
   ],
   "source": [
    "#Satelization velocity of Uranus\n",
    "VsatU = np.sqrt(mueU/Ru)\n",
    "print(\"Vsat Uranus :\",VsatU)"
   ]
  },
  {
   "cell_type": "code",
   "execution_count": 33,
   "id": "8db69900",
   "metadata": {},
   "outputs": [
    {
     "name": "stdout",
     "output_type": "stream",
     "text": [
      "17.611122137228826\n"
     ]
    }
   ],
   "source": [
    "#Liberation velocity of Uranus\n",
    "VlU = Vl(mueU,Ru)\n",
    "print(VlU)"
   ]
  },
  {
   "cell_type": "code",
   "execution_count": 45,
   "id": "e7f61ab9",
   "metadata": {},
   "outputs": [
    {
     "name": "stdout",
     "output_type": "stream",
     "text": [
      "9.749481627350645\n"
     ]
    }
   ],
   "source": [
    "# velocity of the spacecraft, related to Sun, at the level of Uranus orbit and the angle of crossing orbit directions\n",
    "dv3 = 2.11\n",
    "Vs4 = V(mueS,a3)\n",
    "phi3 = np.arccos(Vs3*sJ/(Vs4*sU))\n",
    "phi3deg = phi3*180/np.pi\n",
    "\n",
    "print(Vs4)"
   ]
  },
  {
   "cell_type": "code",
   "execution_count": 46,
   "id": "0d4a6024",
   "metadata": {},
   "outputs": [
    {
     "name": "stdout",
     "output_type": "stream",
     "text": [
      "14.640810598825757\n"
     ]
    }
   ],
   "source": [
    "# velocity of the spacecraft, related to Uranus, at the entry point and the angle\n",
    "Vinf4 = Vs(Vs4,Vu,phi3)\n",
    "print(Vinf4)"
   ]
  },
  {
   "cell_type": "code",
   "execution_count": 47,
   "id": "57d335dd",
   "metadata": {},
   "outputs": [
    {
     "name": "stdout",
     "output_type": "stream",
     "text": [
      "0.38224867543198204\n"
     ]
    }
   ],
   "source": [
    "#Vinf4 < VlU = ellipse\n",
    "aU,eU,wU,Tu = param(mueU,Vinf4,Ru,'e')\n",
    "\n",
    "print(eU)#ellipse"
   ]
  },
  {
   "cell_type": "markdown",
   "id": "c85ec845",
   "metadata": {},
   "source": [
    "The velocity of the stalletite is between the satellization velocity and the liberation velocity. We are in orbit around Uranus. We don't need to add velocity to have an orbit around Uranus !"
   ]
  },
  {
   "cell_type": "markdown",
   "id": "39f07cf4",
   "metadata": {},
   "source": [
    "### Calculation of the cost \n",
    "\n",
    "Now we will calculate the coast in propelant of this project"
   ]
  },
  {
   "cell_type": "code",
   "execution_count": 48,
   "id": "8084d672",
   "metadata": {},
   "outputs": [
    {
     "name": "stdout",
     "output_type": "stream",
     "text": [
      "8.804\n"
     ]
    }
   ],
   "source": [
    "dvTot = dv0+dv2+dv3\n",
    "print(dvTot)"
   ]
  },
  {
   "cell_type": "markdown",
   "id": "4f866a0d",
   "metadata": {},
   "source": [
    "We have a final deltaV of 10.64 km/s"
   ]
  },
  {
   "cell_type": "code",
   "execution_count": 49,
   "id": "2b241a1b",
   "metadata": {},
   "outputs": [
    {
     "name": "stdout",
     "output_type": "stream",
     "text": [
      "97.9797792359097 kg\n"
     ]
    }
   ],
   "source": [
    "#We take average parameters for the mass and isp of a satellite using liquid propelant\n",
    "mi = 100\n",
    "ISP = 230\n",
    "#solid ergol\n",
    "\n",
    "mf = np.exp(-dvTot*1000/(9.81*ISP) + np.log(mi))\n",
    "print(mi-mf,\"kg\")"
   ]
  }
 ],
 "metadata": {
  "kernelspec": {
   "display_name": "Python 3 (ipykernel)",
   "language": "python",
   "name": "python3"
  },
  "language_info": {
   "codemirror_mode": {
    "name": "ipython",
    "version": 3
   },
   "file_extension": ".py",
   "mimetype": "text/x-python",
   "name": "python",
   "nbconvert_exporter": "python",
   "pygments_lexer": "ipython3",
   "version": "3.9.7"
  }
 },
 "nbformat": 4,
 "nbformat_minor": 5
}
